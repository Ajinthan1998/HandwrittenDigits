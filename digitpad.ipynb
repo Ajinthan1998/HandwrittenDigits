{
 "cells": [
  {
   "cell_type": "code",
   "execution_count": 23,
   "id": "60783bef",
   "metadata": {},
   "outputs": [
    {
     "name": "stdout",
     "output_type": "stream",
     "text": [
      "1/1 [==============================] - 0s 76ms/step\n",
      "1/1 [==============================] - 0s 28ms/step\n",
      "1/1 [==============================] - 0s 23ms/step\n",
      "1/1 [==============================] - 0s 24ms/step\n",
      "1/1 [==============================] - 0s 24ms/step\n",
      "1/1 [==============================] - 0s 24ms/step\n",
      "1/1 [==============================] - 0s 24ms/step\n",
      "1/1 [==============================] - 0s 23ms/step\n"
     ]
    },
    {
     "ename": "SystemExit",
     "evalue": "",
     "output_type": "error",
     "traceback": [
      "An exception has occurred, use %tb to see the full traceback.\n",
      "\u001b[1;31mSystemExit\u001b[0m\n"
     ]
    }
   ],
   "source": [
    "import pygame, sys\n",
    "from pygame.locals import *\n",
    "import numpy as np\n",
    "import tensorflow as tf\n",
    "from keras.models import load_model\n",
    "import cv2\n",
    "\n",
    "White = (255, 255, 255)\n",
    "Black = (0, 0, 0)\n",
    "Red = (255, 0, 0)\n",
    "ImageSave = False\n",
    "Boundary = 5\n",
    "image_count = 1\n",
    "Predict = True\n",
    "\n",
    "model = tf.keras.models.load_model('bestmodelNEW.h5')\n",
    "\n",
    "Labels = {0:\"Zero\", 1:\"One\", 2:\"Two\", 3:\"Three\", 4:\"Four\", 5:\"Five\", 6:\"Six\", 7:\"Seven\", 8:\"Eight\", 9:\"Nine\"}\n",
    "\n",
    "pygame.init()  \n",
    "FONT = pygame.font.Font(None, 36)\n",
    "screen = pygame.display.set_mode((400,500))\n",
    "pygame.display.set_caption(\"Digital Display\")\n",
    "\n",
    "iswriting = False\n",
    "number_xcord = []\n",
    "number_ycord = []\n",
    "\n",
    "while True:  \n",
    "    for event in pygame.event.get():  \n",
    "        if event.type == QUIT:\n",
    "            pygame.quit()\n",
    "            sys.exit()\n",
    "            \n",
    "        if event.type == MOUSEMOTION and iswriting:\n",
    "            xcord, ycord = event.pos     #x, y mouse position\n",
    "            pygame.draw.circle(screen, White, (xcord, ycord), 4, 0)     # display surface, 4=thickness, 0=brightness\n",
    "\n",
    "            number_xcord.append(xcord)\n",
    "            number_ycord.append(ycord)\n",
    "        \n",
    "        if event.type == MOUSEBUTTONDOWN:\n",
    "            iswriting = True\n",
    "        \n",
    "        if event.type == MOUSEBUTTONUP:\n",
    "            iswriting = False\n",
    "            number_xcord = sorted(number_xcord)\n",
    "            number_ycord = sorted(number_ycord)\n",
    "            \n",
    "            rectancular_min_x, rectancular_max_x = max(number_xcord[0] - Boundary, 0), min(number_xcord[-1] + Boundary, screen.get_width())\n",
    "            rectancular_min_y, rectancular_max_y = max(number_ycord[0] - Boundary, 0), min(number_ycord[-1] + Boundary, screen.get_height())\n",
    "            \n",
    "            # Extract the region of interest (ROI) from the screen\n",
    "            img_arr = np.array(pygame.PixelArray(screen))[rectancular_min_x:rectancular_max_x, rectancular_min_y:rectancular_max_y].T.astype(np.float32) # transpose correct orientation, float\n",
    "            \n",
    "            if ImageSave: # save the image\n",
    "                cv2.imwrite(\"image.png\", img_arr)  # pass the value, file name\n",
    "                image_count += 1\n",
    "            \n",
    "            if Predict:\n",
    "                image = cv2.resize(img_arr, (28, 28)) # because model trained 28, 28j\n",
    "                image = np.pad(image, (10, 10), 'constant', constant_values = 0)\n",
    "                image = cv2.resize(image, (28, 28))/255 # Normalize\n",
    "                \n",
    "                label = str(Labels[np.argmax(model.predict(image.reshape(1,28,28,1)))]) # argmax returns string\n",
    "                \n",
    "                textSurface = FONT.render(label, True, Red, White)\n",
    "                textRectancularObject = textSurface.get_rect() # get rectangular\n",
    "                textRectancularObject.left, textRectancularObject.bottom = rectancular_min_x, rectancular_max_y\n",
    "                \n",
    "                screen.blit(textSurface, textRectancularObject) # blit use to display my object\n",
    "            \n",
    "            # Reset coordinates\n",
    "            number_xcord.clear()\n",
    "            number_ycord.clear()\n",
    "        \n",
    "        pygame.display.update()\n"
   ]
  },
  {
   "cell_type": "code",
   "execution_count": null,
   "id": "82404b60",
   "metadata": {},
   "outputs": [],
   "source": []
  }
 ],
 "metadata": {
  "kernelspec": {
   "display_name": "Python 3 (ipykernel)",
   "language": "python",
   "name": "python3"
  },
  "language_info": {
   "codemirror_mode": {
    "name": "ipython",
    "version": 3
   },
   "file_extension": ".py",
   "mimetype": "text/x-python",
   "name": "python",
   "nbconvert_exporter": "python",
   "pygments_lexer": "ipython3",
   "version": "3.11.5"
  }
 },
 "nbformat": 4,
 "nbformat_minor": 5
}
